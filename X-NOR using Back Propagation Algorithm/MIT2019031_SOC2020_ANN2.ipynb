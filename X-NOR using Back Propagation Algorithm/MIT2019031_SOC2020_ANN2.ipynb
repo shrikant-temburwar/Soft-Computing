{
 "cells": [
  {
   "cell_type": "markdown",
   "metadata": {},
   "source": [
    "## ** X-NOR using Back Propagation Algorithm **"
   ]
  },
  {
   "cell_type": "code",
   "execution_count": 1,
   "metadata": {},
   "outputs": [],
   "source": [
    "import numpy as np\n",
    "np.random.seed(10)"
   ]
  },
  {
   "cell_type": "code",
   "execution_count": 2,
   "metadata": {},
   "outputs": [],
   "source": [
    "class Back_prop(object):\n",
    "    def __init__(self, inputs, exp_output, lr, epochs):\n",
    "        self.inputs = inputs\n",
    "        self.exp_output = exp_output\n",
    "        self.pred_output = np.array([[0],[0],[0],[0]])\n",
    "        self.lr = lr\n",
    "        self.epochs = epochs\n",
    "        self.hidden_W = np.around(np.random.uniform(low= -(2.4/2), high= (2.4/2), size= (2, 2)), 1)\n",
    "        self.hidden_B = np.around(np.random.uniform(low= -(2.4/2), high= (2.4/2), size= (1, 2)), 1)\n",
    "        self.output_W = np.around(np.random.uniform(low= -(2.4/2), high= (2.4/2), size= (2, 1)), 1)\n",
    "        self.output_B = np.around(np.random.uniform(low= -(2.4/2), high= (2.4/2), size= (1, 1)), 1)\n",
    "        self.error = 0\n",
    "        \n",
    "    def sigmoid(self, z):\n",
    "        return 1 / (1 + np.exp(-z))\n",
    "    \n",
    "    def sigmoid_(self, z):\n",
    "        return z * (1 - z)\n",
    "    \n",
    "    def fit(self):\n",
    "        for _ in range(self.epochs):\n",
    "            \n",
    "            #Forward Propagation\n",
    "            hidden_act = np.dot(self.inputs, self.hidden_W)\n",
    "            hidden_act += self.hidden_B\n",
    "            hidden_out = self.sigmoid(hidden_act)\n",
    "            \n",
    "            output_act = np.dot(hidden_out, self.output_W)\n",
    "            output_act += self.output_B\n",
    "            self.pred_output = self.sigmoid(output_act)\n",
    "            \n",
    "            #Backpropagation\n",
    "            self.error = self.exp_output - self.pred_output\n",
    "            pred_output_ = self.error * self.sigmoid_(self.pred_output)\n",
    "            \n",
    "            error_hidden = pred_output_.dot(self.output_W.T)\n",
    "            hidden_out_ = error_hidden  * self.sigmoid_(hidden_out)\n",
    "            \n",
    "            #Updating Weights and Biases\n",
    "            self.output_W += hidden_out.T.dot(pred_output_) * self.lr\n",
    "            self.output_B += np.sum(pred_output_, axis=0, keepdims=True) * self.lr\n",
    "            self.hidden_W += self.inputs.T.dot(hidden_out_) * self.lr\n",
    "            self.hidden_B += np.sum(hidden_out_, axis=0, keepdims=True) * self.lr\n",
    "        "
   ]
  },
  {
   "cell_type": "code",
   "execution_count": 17,
   "metadata": {},
   "outputs": [],
   "source": [
    "inputs = np.array([[0,0], [0,1], [1,0], [1,1]])\n",
    "exp_output = np.array([[1], [0], [0], [1]])\n",
    "epochs = 100000\n",
    "lr = 0.1"
   ]
  },
  {
   "cell_type": "code",
   "execution_count": 18,
   "metadata": {},
   "outputs": [],
   "source": [
    "model = Back_prop(inputs, exp_output, lr, epochs)"
   ]
  },
  {
   "cell_type": "code",
   "execution_count": 19,
   "metadata": {},
   "outputs": [
    {
     "name": "stdout",
     "output_type": "stream",
     "text": [
      "Initial hidden weights:  [1.  0.5] [ 0.1 -0.9]\n",
      "Initial hidden biases:  [-0.3  0.4]\n",
      "Initial output weights:  [-0.1] [-0.2]\n",
      "Initial output biases:  [0.3]\n"
     ]
    }
   ],
   "source": [
    "print(\"Initial hidden weights: \", *model.hidden_W)\n",
    "print(\"Initial hidden biases: \", *model.hidden_B)\n",
    "print(\"Initial output weights: \", *model.output_W)\n",
    "print(\"Initial output biases: \", *model.output_B)"
   ]
  },
  {
   "cell_type": "code",
   "execution_count": 20,
   "metadata": {},
   "outputs": [],
   "source": [
    "model.fit()"
   ]
  },
  {
   "cell_type": "code",
   "execution_count": 21,
   "metadata": {},
   "outputs": [
    {
     "name": "stdout",
     "output_type": "stream",
     "text": [
      "Final hidden weights:  [6.92056407 4.79434244] [6.79503627 4.7672591 ]\n",
      "Final hidden bias:  [-3.08026076 -7.33185495]\n",
      "Final output weights:  [-10.25520323] [11.00597583]\n",
      "Final output bias:  [4.75744247]\n"
     ]
    }
   ],
   "source": [
    "print(\"Final hidden weights: \", *model.hidden_W)\n",
    "print(\"Final hidden bias: \", *model.hidden_B)\n",
    "print(\"Final output weights: \", *model.output_W)\n",
    "print(\"Final output bias: \", *model.output_B)"
   ]
  },
  {
   "cell_type": "code",
   "execution_count": 24,
   "metadata": {},
   "outputs": [
    {
     "name": "stdout",
     "output_type": "stream",
     "text": [
      "Input:  [0 0] [0 1] [1 0] [1 1]\n",
      "\n",
      "Expected Output:  [1] [0] [0] [1]\n",
      "\n",
      "Predicted Output:  [0.98679849] [0.01134609] [0.01125494] [0.98833762]\n"
     ]
    }
   ],
   "source": [
    "print(\"Input: \", *inputs)\n",
    "print(\"\\nExpected Output: \", *model.exp_output)\n",
    "print(\"\\nPredicted Output: \", *model.pred_output)"
   ]
  },
  {
   "cell_type": "code",
   "execution_count": 23,
   "metadata": {},
   "outputs": [
    {
     "name": "stdout",
     "output_type": "stream",
     "text": [
      "\n",
      "Error:  [0.01320151] [-0.01134609] [-0.01125494] [0.01166238]\n"
     ]
    }
   ],
   "source": [
    "print(\"\\nError: \", *model.error)"
   ]
  },
  {
   "cell_type": "markdown",
   "metadata": {},
   "source": [
    "Predicted output is close to expected output. Hence, the neural network has converged to the expected output."
   ]
  },
  {
   "cell_type": "code",
   "execution_count": null,
   "metadata": {},
   "outputs": [],
   "source": []
  }
 ],
 "metadata": {
  "kernelspec": {
   "display_name": "Python 3",
   "language": "python",
   "name": "python3"
  },
  "language_info": {
   "codemirror_mode": {
    "name": "ipython",
    "version": 3
   },
   "file_extension": ".py",
   "mimetype": "text/x-python",
   "name": "python",
   "nbconvert_exporter": "python",
   "pygments_lexer": "ipython3",
   "version": "3.6.8"
  }
 },
 "nbformat": 4,
 "nbformat_minor": 2
}
