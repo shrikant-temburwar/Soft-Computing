{
 "cells": [
  {
   "cell_type": "markdown",
   "metadata": {},
   "source": [
    "## **Bidirectional Associative Memory(BAM)**"
   ]
  },
  {
   "cell_type": "code",
   "execution_count": 1,
   "metadata": {},
   "outputs": [],
   "source": [
    "import numpy as np\n",
    "\n",
    "class BAM(object):\n",
    "    def __init__(self, m, n):\n",
    "        \n",
    "        self.row_count = m\n",
    "        self.col_count = n\n",
    "        self.weight_matrix = np.zeros((self.row_count, self.col_count))\n",
    "                 \n",
    "    def feedForward(self, inp):\n",
    "        result = ( np.mat(inp) * np.mat(self.weight_matrix) ).tolist()[0]\n",
    "        result = list(map(lambda x: 1 if x > 0 else -1, result))\n",
    "        \n",
    "        return result\n",
    "    \n",
    "    def feedBackward(self, output):\n",
    "        result = (( np.mat(output) * (np.mat((self.weight_matrix)).T ))).tolist()[0]\n",
    "        result = list(map(lambda x: 1 if x > 0 else -1, result))\n",
    "        \n",
    "        return result\n",
    "        \n",
    "    def train(self, inp, output):\n",
    "        for i in range(len(inp)):\n",
    "            sample_in = inp[i]\n",
    "            sample_out = output[i]\n",
    "            \n",
    "            for r in range(self.row_count):\n",
    "                for c in range(self.col_count):\n",
    "                    self.weight_matrix[r][c] += sample_in[r] * sample_out[c]   \n",
    "       \n",
    "    def printweight_matrix(self):\n",
    "        print(np.mat(self.weight_matrix))"
   ]
  },
  {
   "cell_type": "code",
   "execution_count": 2,
   "metadata": {},
   "outputs": [],
   "source": [
    "input_mat = np.array([[1, 1, 1, 1, 1, 1],\n",
    "                      [-1, -1, -1, -1, -1, -1],\n",
    "                      [1, -1, -1, 1, 1, 1],\n",
    "                      [1, 1, -1, -1, -1, -1]\n",
    "                     ])\n",
    "\n",
    "output_mat = np.array([[1, 1, 1],\n",
    "                       [-1, -1, -1],\n",
    "                       [-1, 1, 1],\n",
    "                       [1, -1, 1]\n",
    "                      ])\n",
    "\n",
    "numRows = input_mat.shape[1]\n",
    "numCols = output_mat.shape[1]"
   ]
  },
  {
   "cell_type": "code",
   "execution_count": 3,
   "metadata": {},
   "outputs": [
    {
     "name": "stdout",
     "output_type": "stream",
     "text": [
      "Input Matrix :\n",
      "[[ 1  1  1  1  1  1]\n",
      " [-1 -1 -1 -1 -1 -1]\n",
      " [ 1 -1 -1  1  1  1]\n",
      " [ 1  1 -1 -1 -1 -1]]\n",
      "\n",
      "Output Matrix :\n",
      "[[ 1  1  1]\n",
      " [-1 -1 -1]\n",
      " [-1  1  1]\n",
      " [ 1 -1  1]]\n"
     ]
    }
   ],
   "source": [
    "print(\"Input Matrix :\")\n",
    "print(input_mat)\n",
    "print(\"\\nOutput Matrix :\")\n",
    "print(output_mat)"
   ]
  },
  {
   "cell_type": "code",
   "execution_count": 4,
   "metadata": {},
   "outputs": [],
   "source": [
    "model = BAM(numRows, numCols)"
   ]
  },
  {
   "cell_type": "code",
   "execution_count": 5,
   "metadata": {},
   "outputs": [
    {
     "name": "stdout",
     "output_type": "stream",
     "text": [
      "weight matrix:\n",
      "[[2. 2. 4.]\n",
      " [4. 0. 2.]\n",
      " [2. 2. 0.]\n",
      " [0. 4. 2.]\n",
      " [0. 4. 2.]\n",
      " [0. 4. 2.]]\n"
     ]
    }
   ],
   "source": [
    "# training\n",
    "model.train(input_mat, output_mat)\n",
    "\n",
    "print (\"weight matrix:\")\n",
    "model.printweight_matrix()"
   ]
  },
  {
   "cell_type": "code",
   "execution_count": 7,
   "metadata": {},
   "outputs": [
    {
     "name": "stdout",
     "output_type": "stream",
     "text": [
      "\n",
      "Iteration  1\n",
      "-------------------------\n",
      "\n",
      "epoch =  1\n",
      "\n",
      "Original x:  1 1 1 1 1 1\n",
      "Target y:  1 1 1\n",
      "y':  1 1 1\n",
      "x':  1 1 1 1 1 1\n",
      "\n",
      "Iteration  2\n",
      "-------------------------\n",
      "\n",
      "epoch =  1\n",
      "\n",
      "Original x:  -1 -1 -1 -1 -1 -1\n",
      "Target y:  -1 -1 -1\n",
      "y':  -1 -1 -1\n",
      "x':  -1 -1 -1 -1 -1 -1\n",
      "\n",
      "Iteration  3\n",
      "-------------------------\n",
      "\n",
      "epoch =  1\n",
      "\n",
      "Original x:  1 -1 -1 1 1 1\n",
      "Target y:  -1 1 1\n",
      "y':  -1 1 1\n",
      "x':  1 -1 -1 1 1 1\n",
      "\n",
      "Iteration  4\n",
      "-------------------------\n",
      "\n",
      "epoch =  1\n",
      "\n",
      "Original x:  1 1 -1 -1 -1 -1\n",
      "Target y:  1 -1 1\n",
      "y':  1 -1 1\n",
      "x':  -1 1 -1 -1 -1 -1\n",
      "\n",
      "epoch =  2\n",
      "\n",
      "Original x:  -1 1 -1 -1 -1 -1\n",
      "Target y:  1 -1 1\n",
      "y':  1 -1 1\n",
      "x':  -1 -1 -1 -1 -1 -1\n",
      "\n",
      "epoch =  3\n",
      "\n",
      "Original x:  -1 -1 -1 -1 -1 -1\n",
      "Target y:  1 -1 1\n",
      "y':  1 -1 1\n",
      "x':  -1 -1 -1 -1 -1 -1\n"
     ]
    }
   ],
   "source": [
    "#testing\n",
    "for i in range(len(input_mat)):\n",
    "    print(\"\\nIteration \", i+1)\n",
    "    print(\"-------------------------\")\n",
    "    x = input_mat[i]\n",
    "    f = 1\n",
    "    epoch = 1\n",
    "    while(f == 1):\n",
    "        print(\"\\nepoch = \", epoch)\n",
    "        print(\"\\nOriginal x: \", *x)\n",
    "        y = output_mat[i]\n",
    "        print(\"Target y: \", *y)\n",
    "        y_ = model.feedForward(x)\n",
    "        print(\"y': \", *y)\n",
    "        x_ = model.feedBackward(y_)\n",
    "        print(\"x': \", *x_)\n",
    "        if (np.array_equal(x, x_)):\n",
    "            f = 0\n",
    "        x = x_\n",
    "        epoch += 1"
   ]
  },
  {
   "cell_type": "code",
   "execution_count": null,
   "metadata": {},
   "outputs": [],
   "source": []
  },
  {
   "cell_type": "code",
   "execution_count": null,
   "metadata": {},
   "outputs": [],
   "source": []
  }
 ],
 "metadata": {
  "kernelspec": {
   "display_name": "Python 3",
   "language": "python",
   "name": "python3"
  },
  "language_info": {
   "codemirror_mode": {
    "name": "ipython",
    "version": 3
   },
   "file_extension": ".py",
   "mimetype": "text/x-python",
   "name": "python",
   "nbconvert_exporter": "python",
   "pygments_lexer": "ipython3",
   "version": "3.6.8"
  }
 },
 "nbformat": 4,
 "nbformat_minor": 2
}
